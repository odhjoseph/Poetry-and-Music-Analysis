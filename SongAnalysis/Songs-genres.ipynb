{
 "cells": [
  {
   "cell_type": "code",
   "execution_count": 6,
   "metadata": {},
   "outputs": [],
   "source": [
    "import json"
   ]
  },
  {
   "cell_type": "code",
   "execution_count": 25,
   "metadata": {},
   "outputs": [
    {
     "data": {
      "text/plain": [
       "Counter({'rock': 49,\n",
       "         'alternative/indie': 11,\n",
       "         'electronic/dance': 12,\n",
       "         'soul': 8,\n",
       "         'pop': 69,\n",
       "         'hip-hop/rnb': 66,\n",
       "         'folk': 1,\n",
       "         'country': 21,\n",
       "         'jazz': 1,\n",
       "         'religious': 3})"
      ]
     },
     "execution_count": 25,
     "metadata": {},
     "output_type": "execute_result"
    }
   ],
   "source": [
    "with open('2000.json') as a:\n",
    "  data = json.load(a)\n",
    "a =len(data)\n",
    "genre_year_list =[]\n",
    "for i in range (0,a):\n",
    "    genres_tags_songs = data[i]['tags']\n",
    "    c = len(data[i]['tags'])\n",
    "    for d in range (0,c):\n",
    "        genre = data[i]['tags'][d]\n",
    "        genre_year_list.append(genre)\n",
    "        d =+ 1\n",
    "    i =+ 1\n",
    "genre_count = []\n",
    "e = len(aggregate_genres)-1\n",
    "for f in range (0,e):\n",
    "    for element in aggregate_genres[f]:\n",
    "        for thing in genre_year_list:\n",
    "            if thing in aggregate_genres[f][element]:\n",
    "                genre_count.append(element)             \n",
    "from collections import Counter\n",
    "dictionary_of_genres_for_year = Counter(genre_count)\n",
    "dictionary_of_genres_for_year"
   ]
  },
  {
   "cell_type": "code",
   "execution_count": 26,
   "metadata": {},
   "outputs": [],
   "source": [
    "def genre_counter_by_decade(year):\n",
    "    filename = year+'.json'\n",
    "    with open(filename) as a:\n",
    "        data = json.load(a)\n",
    "    a =len(data)\n",
    "    genre_year_list =[]\n",
    "    for i in range (0,a):\n",
    "        genres_tags_songs = data[i]['tags']\n",
    "        c = len(data[i]['tags'])\n",
    "        for d in range (0,c):\n",
    "            genre = data[i]['tags'][d]\n",
    "            genre_year_list.append(genre)\n",
    "            d =+ 1\n",
    "        i =+ 1\n",
    "    genre_count = []\n",
    "    e = len(aggregate_genres)-1\n",
    "    for f in range (0,e):\n",
    "        for element in aggregate_genres[f]:\n",
    "            for thing in genre_year_list:\n",
    "                if thing in aggregate_genres[f][element]:\n",
    "                    genre_count.append(element)\n",
    "    from collections import Counter\n",
    "    dictionary_of_genres_for_year = Counter(genre_count)\n",
    "    return dictionary_of_genres_for_year"
   ]
  },
  {
   "cell_type": "code",
   "execution_count": 27,
   "metadata": {},
   "outputs": [
    {
     "data": {
      "text/plain": [
       "Counter({'rock': 55,\n",
       "         'alternative/indie': 16,\n",
       "         'electronic/dance': 81,\n",
       "         'soul': 1,\n",
       "         'pop': 157,\n",
       "         'hip-hop/rnb': 116,\n",
       "         'country': 25,\n",
       "         'jazz': 1,\n",
       "         'religious': 1,\n",
       "         'blues': 1})"
      ]
     },
     "execution_count": 27,
     "metadata": {},
     "output_type": "execute_result"
    }
   ],
   "source": [
    "genre_counter_by_decade('2010')"
   ]
  },
  {
   "cell_type": "code",
   "execution_count": 28,
   "metadata": {},
   "outputs": [],
   "source": [
    "def create_pie_chart(year):\n",
    "    labels = []\n",
    "    sizes = []\n",
    "    year = str(year)\n",
    "    genre_counter_by_decade(year)\n",
    "    for element in dictionary_of_genres_for_year:\n",
    "        labels.append(element)\n",
    "        sizes.append(dictionary_of_genres_for_year[element])\n",
    "    patches, texts = plt.pie(sizes, shadow=True, startangle=90)\n",
    "    plt.legend(patches, labels, loc=\"best\")\n",
    "    plt.axis('equal')\n",
    "    plt.tight_layout()\n",
    "    plt.show()"
   ]
  },
  {
   "cell_type": "code",
   "execution_count": 29,
   "metadata": {},
   "outputs": [
    {
     "data": {
      "image/png": "[encoded data removed]",
      "text/plain": [
       "<Figure size 432x288 with 1 Axes>"
      ]
     },
     "metadata": {},
     "output_type": "display_data"
    }
   ],
   "source": [
    "create_pie_chart('2010')"
   ]
  },
  {
   "cell_type": "code",
   "execution_count": null,
   "metadata": {},
   "outputs": [],
   "source": []
  },
  {
   "cell_type": "code",
   "execution_count": null,
   "metadata": {},
   "outputs": [],
   "source": []
  },
  {
   "cell_type": "code",
   "execution_count": null,
   "metadata": {},
   "outputs": [],
   "source": []
  },
  {
   "cell_type": "code",
   "execution_count": 32,
   "metadata": {},
   "outputs": [],
   "source": [
    "a =len(data)\n",
    "genre_year_list =[]\n",
    "for i in range (0,a):\n",
    "    genres_tags_songs = data[i]['tags']\n",
    "    c = len(data[i]['tags'])\n",
    "    for d in range (0,c):\n",
    "        genre = data[i]['tags'][d]\n",
    "        genre_year_list.append(genre)\n",
    "        d =+ 1\n",
    "    i =+ 1\n",
    "                            \n",
    "        \n",
    "\n",
    "                \n",
    "\n",
    "                \n",
    "    "
   ]
  },
  {
   "cell_type": "code",
   "execution_count": null,
   "metadata": {},
   "outputs": [],
   "source": [
    "\n",
    "    "
   ]
  },
  {
   "cell_type": "code",
   "execution_count": null,
   "metadata": {},
   "outputs": [],
   "source": []
  },
  {
   "cell_type": "code",
   "execution_count": null,
   "metadata": {},
   "outputs": [],
   "source": []
  },
  {
   "cell_type": "code",
   "execution_count": null,
   "metadata": {},
   "outputs": [],
   "source": []
  },
  {
   "cell_type": "code",
   "execution_count": 16,
   "metadata": {},
   "outputs": [],
   "source": [
    "aggregate_genres = [{\"rock\": [\"symphonic rock\", \"jazz-rock\", \"heartland rock\", \"rap rock\", \"garage rock\", \"folk-rock\", \"roots rock\", \"adult alternative pop rock\", \"rock roll\", \"punk rock\", \"arena rock\", \"pop-rock\", \"glam rock\", \"southern rock\", \"indie rock\", \"funk rock\", \"country rock\", \"piano rock\", \"art rock\", \"rockabilly\", \"acoustic rock\", \"progressive rock\", \"folk rock\", \"psychedelic rock\", \"rock & roll\", \"blues rock\", \"alternative rock\", \"rock and roll\", \"soft rock\", \"rock and indie\", \"hard rock\", \"pop/rock\", \"pop rock\", \"rock\", \"classic pop and rock\", \"psychedelic\", \"british psychedelia\", \"punk\", \"metal\", \"heavy metal\"]},\n",
    "{\"alternative/indie\": [\"adult alternative pop rock\", \"alternative rock\", \"alternative metal\", \"alternative\", \"lo-fi indie\", \"indie\", \"indie folk\", \"indietronica\", \"indie pop\", \"indie rock\", \"rock and indie\"]},\n",
    "{\"electronic/dance\": [\"dance and electronica\", \"electro house\", \"electronic\", \"electropop\", \"progressive house\", \"hip house\", \"house\", \"eurodance\", \"dancehall\", \"dance\", \"trap\"]},\n",
    "{\"soul\": [\"psychedelic soul\", \"deep soul\", \"neo-soul\", \"neo soul\", \"southern soul\", \"smooth soul\", \"blue-eyed soul\", \"soul and reggae\", \"soul\"]},\n",
    "{\"classical/soundtrack\": [\"classical\", \"orchestral\", \"film soundtrack\", \"composer\"]},\n",
    "{\"pop\": [\"country-pop\", \"latin pop\", \"classical pop\", \"pop-metal\", \"orchestral pop\", \"instrumental pop\", \"indie pop\", \"sophisti-pop\", \"pop punk\", \"pop reggae\", \"britpop\", \"traditional pop\", \"power pop\", \"sunshine pop\", \"baroque pop\", \"synthpop\", \"art pop\", \"teen pop\", \"psychedelic pop\", \"folk pop\", \"country pop\", \"pop rap\", \"pop soul\", \"pop and chart\", \"dance-pop\", \"pop\", \"top 40\"]},\n",
    "{\"hip-hop/rnb\": [\"conscious hip hop\", \"east coast hip hop\", \"hardcore hip hop\", \"west coast hip hop\", \"hiphop\", \"southern hip hop\", \"hip-hop\", \"hip hop\", \"hip hop rnb and dance hall\", \"contemporary r b\", \"gangsta rap\", \"rapper\", \"rap\", \"rhythm and blues\", \"contemporary rnb\", \"contemporary r&b\", \"rnb\", \"rhythm & blues\",\"r&b\", \"blues\"]},\n",
    "{\"disco\": [\"disco\"]},\n",
    "{\"swing\":  [\"swing\"]},\n",
    "{\"folk\": [\"contemporary folk\", \"folk\"]},\n",
    "{\"country\": [\"country rock\", \"country-pop\", \"country pop\", \"contemporary country\", \"country\"]},\n",
    "{\"jazz\": [\"vocal jazz\", \"jazz\", \"jazz-rock\"]},\n",
    "{\"religious\": [\"christian\", \"christmas music\", \"gospel\"]},\n",
    "{\"blues\": [\"delta blues\", \"rock blues\", \"urban blues\", \"electric blues\", \"acoustic blues\", \"soul blues\", \"country blues\", \"jump blues\", \"classic rock. blues rock\", \"jazz and blues\", \"piano blues\", \"british blues\", \"british rhythm & blues\", \"rhythm and blues\", \"blues\", \"blues rock\", \"rhythm & blues\"]},\n",
    "{\"reggae\": [\"reggae fusion\", \"roots reggae\", \"reggaeton\", \"pop reggae\", \"reggae\", \"soul and reggae\"]}]"
   ]
  },
  {
   "cell_type": "code",
   "execution_count": 17,
   "metadata": {},
   "outputs": [],
   "source": [
    "genre_count = []\n",
    "e = len(aggregate_genres)-1\n",
    "for f in range (0,e):\n",
    "    for element in aggregate_genres[f]:\n",
    "        for thing in genre_year_list:\n",
    "            if thing in aggregate_genres[f][element]:\n",
    "                genre_count.append(element)\n",
    "                  \n"
   ]
  },
  {
   "cell_type": "code",
   "execution_count": 18,
   "metadata": {},
   "outputs": [
    {
     "data": {
      "text/plain": [
       "Counter({'rock': 49,\n",
       "         'alternative/indie': 11,\n",
       "         'electronic/dance': 12,\n",
       "         'soul': 8,\n",
       "         'pop': 69,\n",
       "         'hip-hop/rnb': 66,\n",
       "         'folk': 1,\n",
       "         'country': 21,\n",
       "         'jazz': 1,\n",
       "         'religious': 3})"
      ]
     },
     "execution_count": 18,
     "metadata": {},
     "output_type": "execute_result"
    }
   ],
   "source": [
    "from collections import Counter\n",
    "dictionary_of_genres_for_year = Counter(genre_count)\n",
    "dictionary_of_genres_for_year"
   ]
  },
  {
   "cell_type": "code",
   "execution_count": null,
   "metadata": {},
   "outputs": [],
   "source": []
  },
  {
   "cell_type": "code",
   "execution_count": null,
   "metadata": {},
   "outputs": [],
   "source": [
    "## Start of TF-IDF rough draft code"
   ]
  },
  {
   "cell_type": "code",
   "execution_count": 21,
   "metadata": {},
   "outputs": [],
   "source": [
    "import string\n",
    "def getWords(textString):\n",
    "    '''Returns text in a string named textString as a list of \n",
    "    words in lowercase with punctuation removed.'''\n",
    "    wordList = []\n",
    "    for word in textString.split():\n",
    "        newWord = \"\"\n",
    "        word.replace('-', ' ')\n",
    "        for char in word:\n",
    "            if char not in string.punctuation:\n",
    "                newWord += char\n",
    "        wordList.append(newWord.lower())\n",
    "    return wordList"
   ]
  },
  {
   "cell_type": "code",
   "execution_count": 33,
   "metadata": {},
   "outputs": [],
   "source": [
    "lyrics1 = data[1]['lyrics']"
   ]
  },
  {
   "cell_type": "code",
   "execution_count": 34,
   "metadata": {},
   "outputs": [],
   "source": [
    "z = len(data)-1\n",
    "for i in range (0,z):\n",
    "    lyrics = data[i]['lyrics']"
   ]
  },
  {
   "cell_type": "code",
   "execution_count": 35,
   "metadata": {},
   "outputs": [],
   "source": [
    "wordList = getWords(lyrics1)"
   ]
  },
  {
   "cell_type": "code",
   "execution_count": 36,
   "metadata": {},
   "outputs": [],
   "source": [
    "import math \n",
    "def tf(word, text_list): \n",
    "    '''Takes a word and a list of words in which the word occurs. \n",
    "    Returns the relative frequency of that word in the text list.'''\n",
    "    count = 0\n",
    "    for element in text_list:\n",
    "        if element == word:\n",
    "            count += 1\n",
    "    frequency = count/len(text_list)\n",
    "    return frequency"
   ]
  },
  {
   "cell_type": "code",
   "execution_count": 37,
   "metadata": {},
   "outputs": [],
   "source": [
    "def texts_containing(word, doc_list):\n",
    "    '''Takes a word and a list of documents (stored as word lists). \n",
    "    Returns number of words in a list of documents.'''\n",
    "    count = 0 \n",
    "    for doc in doc_list: \n",
    "        if word in doc: \n",
    "            count += 1\n",
    "    return count \n",
    "def idf(word, doc_list):\n",
    "    '''Takes a word and a lists of documents, and returns the inverse of the number of \n",
    "    documents that the word appears in.''' \n",
    "    return math.log(len(doc_list)/ (1 + texts_containing(word, doc_list)))\n",
    "def tf_idf(word, text_list, doc_list): \n",
    "    '''Takes a word, text list, and list of documents, and returns \n",
    "    the term-frequency*inverse document frequency of the term.'''\n",
    "    return tf(word, text_list) * idf(word, doc_list)"
   ]
  },
  {
   "cell_type": "code",
   "execution_count": 38,
   "metadata": {},
   "outputs": [
    {
     "data": {
      "text/plain": [
       "0.0"
      ]
     },
     "execution_count": 38,
     "metadata": {},
     "output_type": "execute_result"
    }
   ],
   "source": [
    "tf('night', wordList)"
   ]
  },
  {
   "cell_type": "code",
   "execution_count": null,
   "metadata": {},
   "outputs": [],
   "source": [
    "z = len(data)-1\n",
    "for i in range (0,z):\n",
    "    lyrics = data[i]['lyrics']\n",
    "    lyrics_clean = lyrics.replace('\\n', ' ')\n",
    "    "
   ]
  },
  {
   "cell_type": "code",
   "execution_count": null,
   "metadata": {},
   "outputs": [],
   "source": [
    "TF_IDF_SCORES = {}\n",
    "for element in lyrics_clean:\n",
    "    if element in TF_IDF_SCORES:\n",
    "        if tf_idf('element') >"
   ]
  },
  {
   "cell_type": "code",
   "execution_count": 51,
   "metadata": {},
   "outputs": [],
   "source": [
    "DocList = []\n",
    "z = len(data)-1\n",
    "for i in range (0,z):\n",
    "    lyrics = data[i]['lyrics']\n",
    "    doc = []\n",
    "    doc.append(lyrics)\n",
    "    DocList.append(doc)"
   ]
  },
  {
   "cell_type": "code",
   "execution_count": 64,
   "metadata": {},
   "outputs": [
    {
     "name": "stdout",
     "output_type": "stream",
     "text": [
      "{'say': 0.31458218194643667, 'my': 0.2505993652793648, 'name': 0.24526746389044216, 'if': 0.14396133750091172, 'no': 0.05331901388922656, 'one': 0.05865091527814922, 'is': 0.06398281666707187, 'around': 0.05865091527814922, 'you': 0.37856499861350856, 'baby': 0.11196992916737578, 'i': 0.10663802777845312, 'love': 0.05865091527814922, 'aint': 0.11196992916737578, 'runnin': 0.05331901388922656, 'game': 0.05865091527814922, 'acting': 0.06931471805599453, 'kind': 0.05331901388922656, 'of': 0.06398281666707187, 'shady': 0.05331901388922656, 'callin': 0.05331901388922656, 'me': 0.11730183055629843, 'why': 0.06931471805599453, 'the': 0.10663802777845312, 'sudden': 0.02665950694461328, 'change': 0.031991408333535934, 'better': 0.02132760555569062, 'any': 0.005331901388922655, 'other': 0.01066380277784531, 'day': 0.01066380277784531, 'would': 0.015995704166767967, 'call': 0.005331901388922655, 'hows': 0.005331901388922655, 'your': 0.01066380277784531, 'but': 0.005331901388922655, 'today': 0.005331901388922655, 'it': 0.04265521111138124, 'same': 0.005331901388922655, 'every': 0.005331901388922655, 'word': 0.005331901388922655, 'a': 0.02132760555569062, 'yeah': 0.06398281666707187, 'okay': 0.005331901388922655, 'could': 0.005331901388922655, 'be': 0.02665950694461328, 'that': 0.031991408333535934, 'are': 0.01066380277784531, 'at': 0.01066380277784531, 'crib': 0.005331901388922655, 'wit': 0.01066380277784531, 'another': 0.005331901388922655, 'lady': 0.005331901388922655, 'took': 0.005331901388922655, 'there': 0.02132760555569062, 'first': 0.005331901388922655, 'all': 0.005331901388922655, 'let': 0.005331901388922655, 'am': 0.005331901388922655, 'not': 0.005331901388922655, 'to': 0.04265521111138124, 'sit': 0.005331901388922655, 'and': 0.01066380277784531, 'played': 0.005331901388922655, 'so': 0.01066380277784531, 'prove': 0.005331901388922655, 'yourself': 0.01066380277784531, 'girl': 0.005331901388922655, 'youre': 0.02132760555569062, 'playin': 0.005331901388922655, 'dont': 0.01066380277784531, 'things': 0.02132760555569062, 'said': 0.01066380277784531, 'yesterday': 0.005331901388922655, 'know': 0.037323309722458585, 'sayin': 0.031991408333535934, 'im': 0.015995704166767967, 'assuming': 0.015995704166767967, 'somethings': 0.015995704166767967, 'goin': 0.015995704166767967, 'down': 0.015995704166767967, 'thats': 0.015995704166767967, 'way': 0.015995704166767967, 'seems': 0.015995704166767967, 'shouldnt': 0.015995704166767967, 'reason': 0.015995704166767967, 'strange': 0.015995704166767967, 'nobodys': 0.015995704166767967, 'holding': 0.015995704166767967, 'back': 0.015995704166767967, 'from': 0.015995704166767967, 'cause': 0.015995704166767967, 'how': 0.02132760555569062, 'usually': 0.015995704166767967, 'do': 0.02132760555569062, 'when': 0.02665950694461328, 'everything': 0.015995704166767967, 'times': 0.015995704166767967, 'two': 0.02132760555569062, 'cant': 0.02132760555569062, 'just': 0.031991408333535934, 'tell': 0.037323309722458585, 'truth': 0.02132760555569062, 'somebodys': 0.015995704166767967, 'then': 0.015995704166767967, 'who': 0.02132760555569062, 'betta': 0.005331901388922655, 'what': 0.005331901388922655, 'up': 0.01066380277784531, 'this': 0.01066380277784531, 'with': 0.01066380277784531, 'like': 0.005331901388922655, 'came': 0.005331901388922655, 'over': 0.005331901388922655, 'clique': 0.005331901388922655, 'try': 0.005331901388922655, 'now': 0.005331901388922655, 'see': 0.005331901388922655, 'gotta': 0.01066380277784531, 'bounce': 0.005331901388922655, 'seconds': 0.005331901388922655, 'ago': 0.005331901388922655, 'got': 0.005331901388922655, 'in': 0.01066380277784531, 'house': 0.005331901388922655, 'its': 0.005331901388922655, 'hard': 0.005331901388922655, 'believe': 0.005331901388922655, 'home': 0.005331901388922655, 'by': 0.005331901388922655, 'heard': 0.01066380277784531, 'voice': 0.01066380277784531, 'someone': 0.005331901388922655, 'else': 0.005331901388922655, 'question': 0.005331901388922655, 'feel': 0.005331901388922655, 'lie': 0.005331901388922655, 'caught': 0.005331901388922655, 'cannot': 0.005331901388922655, 'oh': 0.005331901388922655, 'thou': 0.005331901388922655, 'shall': 0.005331901388922655, 'she': 0.005331901388922655}\n"
     ]
    }
   ],
   "source": [
    "TF_IDF_SCORES = {}\n",
    "for word in wordList:\n",
    "    score = tf_idf(word, wordList, DocList)\n",
    "    if word in TF_IDF_SCORES:\n",
    "        if TF_IDF_SCORES[word] < score:\n",
    "            TF_IDF_SCORES[word] = score\n",
    "    else:\n",
    "        TF_IDF_SCORES[word] = score\n",
    "print(TF_IDF_SCORES)"
   ]
  },
  {
   "cell_type": "code",
   "execution_count": 42,
   "metadata": {},
   "outputs": [
    {
     "data": {
      "text/plain": [
       "0.005331901388922655"
      ]
     },
     "execution_count": 42,
     "metadata": {},
     "output_type": "execute_result"
    }
   ],
   "source": [
    "tf_idf('oh', wordList, DocList)"
   ]
  },
  {
   "cell_type": "code",
   "execution_count": 46,
   "metadata": {},
   "outputs": [],
   "source": [
    "with open('2000.json') as a:\n",
    "  data = json.load(a)"
   ]
  },
  {
   "cell_type": "code",
   "execution_count": null,
   "metadata": {},
   "outputs": [],
   "source": []
  },
  {
   "cell_type": "code",
   "execution_count": null,
   "metadata": {},
   "outputs": [],
   "source": []
  },
  {
   "cell_type": "code",
   "execution_count": null,
   "metadata": {},
   "outputs": [],
   "source": []
  },
  {
   "cell_type": "code",
   "execution_count": null,
   "metadata": {},
   "outputs": [],
   "source": [
    "def tf_idf_scores_dictionary()"
   ]
  },
  {
   "cell_type": "code",
   "execution_count": null,
   "metadata": {},
   "outputs": [],
   "source": [
    "with open('2000.json') as a:\n",
    "  data = json.load(a)"
   ]
  },
  {
   "cell_type": "code",
   "execution_count": null,
   "metadata": {},
   "outputs": [],
   "source": [
    "DocList =[]\n",
    "y = 1950\n",
    "while y in range(1950, 2010):\n",
    "    with open(str(y)+'.json') as a:\n",
    "        data = json.load(a)\n",
    "    z = len(data)-1\n",
    "    for i in range (0,z):\n",
    "        lyrics = data[i]['lyrics']\n",
    "        lyrics_clean = lyrics.replace('\\n', ' ')\n",
    "        DocList.append(lyrics_clean)\n",
    "    "
   ]
  },
  {
   "cell_type": "code",
   "execution_count": null,
   "metadata": {},
   "outputs": [],
   "source": []
  },
  {
   "cell_type": "code",
   "execution_count": null,
   "metadata": {},
   "outputs": [],
   "source": []
  },
  {
   "cell_type": "code",
   "execution_count": null,
   "metadata": {},
   "outputs": [],
   "source": []
  }
 ],
 "metadata": {
  "kernelspec": {
   "display_name": "Python 3",
   "language": "python",
   "name": "python3"
  },
  "language_info": {
   "codemirror_mode": {
    "name": "ipython",
    "version": 3
   },
   "file_extension": ".py",
   "mimetype": "text/x-python",
   "name": "python",
   "nbconvert_exporter": "python",
   "pygments_lexer": "ipython3",
   "version": "3.6.5"
  }
 },
 "nbformat": 4,
 "nbformat_minor": 2
}
